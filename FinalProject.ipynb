{
 "cells": [
  {
   "cell_type": "code",
   "execution_count": 4,
   "metadata": {
    "collapsed": false
   },
   "outputs": [
    {
     "name": "stdout",
     "output_type": "stream",
     "text": [
      "    file error: new\n",
      "## file park-movement-Fri.csv read ##\n",
      "## file park-movement-Sat.csv read ##\n",
      "## file park-movement-Sun.csv read ##\n",
      "DONE\n"
     ]
    }
   ],
   "source": [
    "## READ CSV FILES AND CHANGE DATE FORMAT ##\n",
    "\n",
    "import os\n",
    "\n",
    "# read txt file\n",
    "def readTxt(i):\n",
    "    # read text file\n",
    "    f = open('Project/original_data/%s' % i , 'r')\n",
    "    print ('## file %s read ##' %i)\n",
    "    return f\n",
    "\n",
    "# write file to disk\n",
    "def writeFile(i):\n",
    "    f = open('Project/%s' % i , 'w')\n",
    "    return f\n",
    "\n",
    "# close file\n",
    "def closeFile(f):\n",
    "    f.close()\n",
    "    \n",
    "# friday\n",
    "for filename in os.listdir('Project'):\n",
    "    try:\n",
    "        # read file\n",
    "        fr = readTxt(filename)\n",
    "        fw = writeFile(filename)\n",
    "        \n",
    "        # read line\n",
    "        for line in fr:\n",
    "            # replace \"-6-\" with \"-06-\"\n",
    "            newLine = line.replace(\"-6-\", \"-06-\")\n",
    "            # write to new file\n",
    "            fw.write(newLine)\n",
    "        \n",
    "        # close files\n",
    "        closeFile(fr)\n",
    "        closeFile(fw)\n",
    "    except:\n",
    "        print ('    file error: {}'.format(filename))\n",
    "\n",
    "print ('DONE')\n"
   ]
  },
  {
   "cell_type": "code",
   "execution_count": null,
   "metadata": {
    "collapsed": true
   },
   "outputs": [],
   "source": []
  }
 ],
 "metadata": {
  "kernelspec": {
   "display_name": "Python 2",
   "language": "python",
   "name": "python2"
  },
  "language_info": {
   "codemirror_mode": {
    "name": "ipython",
    "version": 2
   },
   "file_extension": ".py",
   "mimetype": "text/x-python",
   "name": "python",
   "nbconvert_exporter": "python",
   "pygments_lexer": "ipython2",
   "version": "2.7.11"
  }
 },
 "nbformat": 4,
 "nbformat_minor": 0
}
