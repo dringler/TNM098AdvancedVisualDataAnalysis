{
 "cells": [
  {
   "cell_type": "code",
   "execution_count": 2,
   "metadata": {
    "collapsed": false
   },
   "outputs": [
    {
     "data": {
      "text/html": [
       "<iframe id=\"igraph\" scrolling=\"no\" style=\"border:none;\" seamless=\"seamless\" src=\"https://plot.ly/~dringler/4.embed\" height=\"525px\" width=\"100%\"></iframe>"
      ],
      "text/plain": [
       "<plotly.tools.PlotlyDisplay object>"
      ]
     },
     "execution_count": 2,
     "metadata": {},
     "output_type": "execute_result"
    }
   ],
   "source": [
    "# based on:\n",
    "# https://plot.ly/python/line-and-scatter/\n",
    "# https://nikgrozev.net/2015/12/27/pandas-in-jupyter-quickstart-and-useful-snippets/\n",
    "\n",
    "import numpy as np\n",
    "import pandas\n",
    "import plotly.plotly as py\n",
    "import plotly.graph_objs as go\n",
    "\n",
    "colnames = ['RecordingTimestamp', 'FixationIndex', 'GazeEventDuration(mS)','GazePointIndex', 'GazePointX(px)', 'GazePointY(px)']\n",
    "\n",
    "dataImport = pandas.read_csv('/Users/curtis/Uni Linköping/TNM098_Advanced_Visual_Data_Analysis/Labs/Lab2/EyeTrack-raw_no_header.tsv', sep='\\s', skipinitialspace=True, engine='python', names=colnames)\n",
    "#print (dataImport)\n",
    "\n",
    "df = pandas.DataFrame(dataImport)\n",
    "\n",
    "## sample dataset\n",
    "#fromDataPoint = 400\n",
    "#toDataPoint = 430\n",
    "#xValues = df.iloc[fromDataPoint:toDataPoint]['GazePointX(px)']\n",
    "#yValues = df.iloc[fromDataPoint:toDataPoint]['GazePointY(px)']\n",
    "\n",
    "## full dataset\n",
    "xValues = df['GazePointX(px)']\n",
    "yValues = df['GazePointY(px)']\n",
    "\n",
    "## create a trace\n",
    "trace = go.Scatter(\n",
    "    x = xValues,\n",
    "    y = yValues,\n",
    "    mode = 'markers'\n",
    ")\n",
    "\n",
    "data = [trace]\n",
    "\n",
    "## plot the chart\n",
    "py.iplot(data, filename='AVDA_Lab2')"
   ]
  },
  {
   "cell_type": "code",
   "execution_count": null,
   "metadata": {
    "collapsed": false
   },
   "outputs": [],
   "source": []
  },
  {
   "cell_type": "code",
   "execution_count": null,
   "metadata": {
    "collapsed": true
   },
   "outputs": [],
   "source": []
  }
 ],
 "metadata": {
  "kernelspec": {
   "display_name": "Python 2",
   "language": "python",
   "name": "python2"
  },
  "language_info": {
   "codemirror_mode": {
    "name": "ipython",
    "version": 2
   },
   "file_extension": ".py",
   "mimetype": "text/x-python",
   "name": "python",
   "nbconvert_exporter": "python",
   "pygments_lexer": "ipython2",
   "version": "2.7.11"
  }
 },
 "nbformat": 4,
 "nbformat_minor": 0
}
