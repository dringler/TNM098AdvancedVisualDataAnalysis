{
 "cells": [
  {
   "cell_type": "code",
   "execution_count": null,
   "metadata": {
    "collapsed": true
   },
   "outputs": [],
   "source": [
    "# Take the zipped file and extract the 10 text files it contains.\n",
    "# Two of the ten files contain plagiarised content from one of the other files.\n",
    "# In one it is a single sentence, in the other an entire paragraph.\n",
    "# Write a program to analyse the 11 texts for textual content and then use comparison to identify \n",
    "# the plagiarised sections.\n",
    "#\n",
    "# Tips:\n",
    "# 1. Remove the punctuation using a linear replacement and converting the sentences into single lines of text. \n",
    "#    Also convert everything to upper or lower case.\n",
    "# 2. Analyse the files to create a word list (a hashed dictionary) replacing the words with numerical values \n",
    "#    of the word positions in the list.\n",
    "# 3. Linked lists are the ideal mechanism for creating this dictionary\n",
    "# 4. Compare the numerical sentence sequences to identify the copied text and the source and destination files \n",
    "#   for each copied element.\n",
    "#\n",
    "# The final step may be quite a lengthy process. I’d be interested to know the computation time for your particular hardware."
   ]
  },
  {
   "cell_type": "code",
   "execution_count": 8,
   "metadata": {
    "collapsed": false
   },
   "outputs": [
    {
     "name": "stdout",
     "output_type": "stream",
     "text": [
      "file error: .DS_Store\n",
      "01\n",
      "## file 01 read ##\n",
      "02\n",
      "## file 02 read ##\n",
      "03\n",
      "## file 03 read ##\n",
      "04\n",
      "## file 04 read ##\n",
      "05\n",
      "## file 05 read ##\n",
      "06\n",
      "## file 06 read ##\n",
      "07\n",
      "## file 07 read ##\n",
      "08\n",
      "## file 08 read ##\n",
      "09\n",
      "## file 09 read ##\n",
      "10\n",
      "## file 10 read ##\n",
      "wordDictionary created\n",
      "wordDict length: 4099\n"
     ]
    }
   ],
   "source": [
    "# https://docs.python.org/2/tutorial/inputoutput.html\n",
    "# https://docs.python.org/3/library/string.html\n",
    "# https://docs.python.org/3.4/library/stdtypes.html\n",
    "\n",
    "import os\n",
    "import string\n",
    "\n",
    "# word dictionary\n",
    "wordDict = {} #key: word, value: counter\n",
    "counter = 0\n",
    "\n",
    "# read txt file\n",
    "def readTxt(i):\n",
    "    # read text file\n",
    "    f = open('Lab3.2/%s.txt' % i , 'r')\n",
    "    print ('## file %s read ##' %i)\n",
    "    return f\n",
    "\n",
    "# remove punctuation from string\n",
    "# http://stackoverflow.com/questions/265960/best-way-to-strip-punctuation-from-a-string-in-python\n",
    "def removePunctuation(s):\n",
    "    return s.translate(string.maketrans(\"\",\"\"), string.punctuation)\n",
    "\n",
    "\n",
    "\n",
    "# read all files\n",
    "for filename in os.listdir('Lab3.2'):\n",
    "    fn = filename[:2]\n",
    "    try:\n",
    "        int(fn)\n",
    "        print (fn)\n",
    "        ftxt = readTxt(fn)\n",
    "    except:\n",
    "        print ('file error: {}'.format(filename))\n",
    "    \n",
    "    # create word dictionary\n",
    "    for line in ftxt:\n",
    "        # convert string to lowercase and renove punctuation\n",
    "        new_line =  removePunctuation(line.lower())\n",
    "        splitted_line = new_line.split()\n",
    "        #print split_line\n",
    "        # split line to words\n",
    "        for word in splitted_line:\n",
    "            #print word\n",
    "            # check word against wordDict\n",
    "            if word not in wordDict:\n",
    "                # add word to wordDict\n",
    "                wordDict[word] = counter\n",
    "#                print (\"'{}' added to wordDict with value {}\".format(word,counter))\n",
    "                counter += 1\n",
    "#            else:\n",
    "#                print (\"'{}' already in wordDict\".format(word))\n",
    "\n",
    "                \n",
    "print ('wordDictionary created')\n",
    "#print wordDict.values()\n",
    "print ('wordDict length: {}'.format(len(wordDict)))\n",
    "\n",
    "# substitute words with numbers in each file\n",
    "# linked list as new text files\n",
    "# http://stackoverflow.com/questions/280243/python-linked-list\n",
    "\n",
    "\n",
    "# compare the sequences in the linked lists\n"
   ]
  },
  {
   "cell_type": "code",
   "execution_count": null,
   "metadata": {
    "collapsed": true
   },
   "outputs": [],
   "source": []
  }
 ],
 "metadata": {
  "kernelspec": {
   "display_name": "Python 2",
   "language": "python",
   "name": "python2"
  },
  "language_info": {
   "codemirror_mode": {
    "name": "ipython",
    "version": 2
   },
   "file_extension": ".py",
   "mimetype": "text/x-python",
   "name": "python",
   "nbconvert_exporter": "python",
   "pygments_lexer": "ipython2",
   "version": "2.7.11"
  }
 },
 "nbformat": 4,
 "nbformat_minor": 0
}
