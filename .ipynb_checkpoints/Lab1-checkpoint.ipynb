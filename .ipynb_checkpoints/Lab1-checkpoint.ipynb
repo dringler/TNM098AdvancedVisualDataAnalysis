{
 "cells": [
  {
   "cell_type": "code",
   "execution_count": 67,
   "metadata": {
    "collapsed": false
   },
   "outputs": [
    {
     "name": "stdout",
     "output_type": "stream",
     "text": [
      "[[1 1 1 ..., 0 1 1]\n",
      " [0 1 1 ..., 1 0 0]\n",
      " [1 0 0 ..., 0 1 0]\n",
      " ..., \n",
      " [0 0 0 ..., 0 1 1]\n",
      " [1 1 1 ..., 1 1 0]\n",
      " [0 1 0 ..., 0 1 0]]\n"
     ]
    }
   ],
   "source": [
    "import numpy as np\n",
    "\n",
    "data = np.genfromtxt(\"/Users/curtis/Uni Linköping/TNM098_Advanced_Visual_Data_Analysis/Labs/Lab1/CoinToss.csv\", delimiter=',', dtype='int',)\n",
    "\n",
    "print (data)\n"
   ]
  },
  {
   "cell_type": "code",
   "execution_count": 73,
   "metadata": {
    "collapsed": false
   },
   "outputs": [
    {
     "name": "stdout",
     "output_type": "stream",
     "text": [
      "[0 1 0 0 0 0 0 0 0 0 1 1 1 1 1 0 0 0 0 1 1 0 1 0 0 0 0 0 1 0 0 1 0 0 1 1 0\n",
      " 0 1 0 1 0 0 1 0 1 1 0 0 1 1 1 0 0 1 1 1 0 0 1 0 0 0 1 1 1 0 1 0 1 1 1 1 1\n",
      " 0 0 1 1 0 1 0 0 1 0 0 0 1 1 1 0 0 0 1 0 0 1 0 1 1 0 1 1 0 1 1 0 0 0 1 1 0\n",
      " 1 1 1 0 0 1 0 0 0 0 1 0 1 1 1 1 0 0 0 0 1 0 1 0 0 0 0 1 0 1 1 1 0 0 1 1 1\n",
      " 0 0 0 1 0 1 0 0 1 1 1 1 0 1 1 1 1 1 1 1 1 1 0 1 1 0 1 1 0 1 1 1 1 1 0 1 0\n",
      " 0 0 1 0 0 0 1 0 0 1 0 1 0 1 0]\n"
     ]
    }
   ],
   "source": [
    "print (data[59])\n",
    "    "
   ]
  },
  {
   "cell_type": "code",
   "execution_count": 69,
   "metadata": {
    "collapsed": false
   },
   "outputs": [
    {
     "name": "stdout",
     "output_type": "stream",
     "text": [
      "[111, 0, 3, 1, 111, 0, 3, 1, 111, 0, 3, 1]\n"
     ]
    }
   ],
   "source": [
    "list_a = [111,0,3,1,111,0,3,1,111,0,3,1] \n",
    "print (list_a)"
   ]
  },
  {
   "cell_type": "code",
   "execution_count": 76,
   "metadata": {
    "collapsed": false
   },
   "outputs": [
    {
     "ename": "NameError",
     "evalue": "name 'numpy' is not defined",
     "output_type": "error",
     "traceback": [
      "\u001b[0;31m---------------------------------------------------------------------------\u001b[0m",
      "\u001b[0;31mNameError\u001b[0m                                 Traceback (most recent call last)",
      "\u001b[0;32m<ipython-input-76-5942efe89315>\u001b[0m in \u001b[0;36m<module>\u001b[0;34m()\u001b[0m\n\u001b[1;32m     21\u001b[0m \u001b[0;32mfor\u001b[0m \u001b[0mitem\u001b[0m \u001b[0;32min\u001b[0m \u001b[0mdata\u001b[0m\u001b[0;34m:\u001b[0m\u001b[0;34m\u001b[0m\u001b[0m\n\u001b[1;32m     22\u001b[0m     \u001b[0;31m#print (\"data iteam \"+ str(i) + \": \")\u001b[0m\u001b[0;34m\u001b[0m\u001b[0;34m\u001b[0m\u001b[0m\n\u001b[0;32m---> 23\u001b[0;31m     \u001b[0mprint\u001b[0m\u001b[0;34m(\u001b[0m\u001b[0mguess_seq_len\u001b[0m\u001b[0;34m(\u001b[0m\u001b[0mitem\u001b[0m\u001b[0;34m)\u001b[0m\u001b[0;34m)\u001b[0m\u001b[0;34m\u001b[0m\u001b[0m\n\u001b[0m\u001b[1;32m     24\u001b[0m     \u001b[0mi\u001b[0m\u001b[0;34m=\u001b[0m\u001b[0mi\u001b[0m\u001b[0;34m+\u001b[0m\u001b[0;36m1\u001b[0m\u001b[0;34m\u001b[0m\u001b[0m\n",
      "\u001b[0;32m<ipython-input-76-5942efe89315>\u001b[0m in \u001b[0;36mguess_seq_len\u001b[0;34m(seq)\u001b[0m\n\u001b[1;32m      5\u001b[0m     \u001b[0;32mfor\u001b[0m \u001b[0mx\u001b[0m \u001b[0;32min\u001b[0m \u001b[0mrange\u001b[0m\u001b[0;34m(\u001b[0m\u001b[0;36m2\u001b[0m\u001b[0;34m,\u001b[0m \u001b[0mmax_len\u001b[0m\u001b[0;34m)\u001b[0m\u001b[0;34m:\u001b[0m\u001b[0;34m\u001b[0m\u001b[0m\n\u001b[1;32m      6\u001b[0m \u001b[0;31m#        if seq[0:x] == seq[x:2*x] :\u001b[0m\u001b[0;34m\u001b[0m\u001b[0;34m\u001b[0m\u001b[0m\n\u001b[0;32m----> 7\u001b[0;31m         \u001b[0;32mif\u001b[0m \u001b[0mnumpy\u001b[0m\u001b[0;34m.\u001b[0m\u001b[0mlogical_and\u001b[0m\u001b[0;34m(\u001b[0m\u001b[0mseq\u001b[0m\u001b[0;34m[\u001b[0m\u001b[0;36m0\u001b[0m\u001b[0;34m:\u001b[0m\u001b[0mx\u001b[0m\u001b[0;34m]\u001b[0m\u001b[0;34m,\u001b[0m \u001b[0mseq\u001b[0m\u001b[0;34m[\u001b[0m\u001b[0mx\u001b[0m\u001b[0;34m:\u001b[0m\u001b[0;36m2\u001b[0m\u001b[0;34m*\u001b[0m\u001b[0mx\u001b[0m\u001b[0;34m]\u001b[0m\u001b[0;34m)\u001b[0m\u001b[0;34m:\u001b[0m\u001b[0;34m\u001b[0m\u001b[0m\n\u001b[0m\u001b[1;32m      8\u001b[0m             \u001b[0;32mreturn\u001b[0m \u001b[0mx\u001b[0m\u001b[0;34m\u001b[0m\u001b[0m\n\u001b[1;32m      9\u001b[0m \u001b[0;34m\u001b[0m\u001b[0m\n",
      "\u001b[0;31mNameError\u001b[0m: name 'numpy' is not defined"
     ]
    }
   ],
   "source": [
    "#get the longest sequence length\n",
    "def guess_seq_len(seq):\n",
    "    seq_length = 1\n",
    "    max_len = len(seq) // 2\n",
    "    for x in range(2, max_len):\n",
    "#        if seq[0:x] == seq[x:2*x] :\n",
    "        if np.logical_and(seq[0:x], seq[x:2*x]):\n",
    "            return x\n",
    "\n",
    "    return seq_length\n",
    "\n",
    "#list_a = [111,0,3,1,111,0,3,1,111,0,3,1] \n",
    "#list_b = [67,4,67,4,67,4,67,4,2,9,0]\n",
    "#list_c = [1,2,3,4,5,6,7,8,9,0,1,2,3,4,5,6,7,8,9,0,23,18,10]\n",
    "\n",
    "#print (guess_seq_len(list_a))\n",
    "#print (guess_seq_len(list_b))\n",
    "#print (guess_seq_len(list_c))\n",
    "#print (guess_seq_len(range(500)))\n",
    "i=0\n",
    "for item in data:\n",
    "    #print (\"data iteam \"+ str(i) + \": \") \n",
    "    print(guess_seq_len(item))\n",
    "    i=i+1\n"
   ]
  },
  {
   "cell_type": "code",
   "execution_count": 20,
   "metadata": {
    "collapsed": false
   },
   "outputs": [
    {
     "name": "stdout",
     "output_type": "stream",
     "text": [
      "4\n",
      "4\n",
      "10\n",
      "0\n"
     ]
    }
   ],
   "source": [
    "#get the number of occurences of the longest sequence\n",
    "def guess_seq_occ(seq):\n",
    "    seq_occ = 0\n",
    "    max_len = len(seq) // 2\n",
    "    for x in range(2, max_len):\n",
    "        if seq[0:x] == seq[x:2*x] :\n",
    "            seq_occ = x\n",
    "\n",
    "    return seq_occ\n",
    "\n",
    "list_a = [111,0,3,1,111,0,3,1,111,0,3,1] \n",
    "list_b = [67,4,67,4,67,4,67,4,2,9,0]\n",
    "list_c = [1,2,3,4,5,6,7,8,9,0,1,2,3,4,5,6,7,8,9,0,23,18,10]\n",
    "\n",
    "print (guess_seq_occ(list_a))\n",
    "print (guess_seq_occ(list_b))\n",
    "print (guess_seq_occ(list_c))\n",
    "print (guess_seq_occ(range(500)))"
   ]
  },
  {
   "cell_type": "code",
   "execution_count": null,
   "metadata": {
    "collapsed": true
   },
   "outputs": [],
   "source": []
  }
 ],
 "metadata": {
  "kernelspec": {
   "display_name": "Python 3",
   "language": "python",
   "name": "python3"
  },
  "language_info": {
   "codemirror_mode": {
    "name": "ipython",
    "version": 3
   },
   "file_extension": ".py",
   "mimetype": "text/x-python",
   "name": "python",
   "nbconvert_exporter": "python",
   "pygments_lexer": "ipython3",
   "version": "3.5.1"
  }
 },
 "nbformat": 4,
 "nbformat_minor": 0
}
